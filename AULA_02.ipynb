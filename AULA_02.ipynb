{
  "nbformat": 4,
  "nbformat_minor": 0,
  "metadata": {
    "colab": {
      "provenance": [],
      "collapsed_sections": [],
      "authorship_tag": "ABX9TyMLWrQchDEElW/2+/FHwi+p",
      "include_colab_link": true
    },
    "kernelspec": {
      "name": "python3",
      "display_name": "Python 3"
    },
    "language_info": {
      "name": "python"
    }
  },
  "cells": [
    {
      "cell_type": "markdown",
      "metadata": {
        "id": "view-in-github",
        "colab_type": "text"
      },
      "source": [
        "<a href=\"https://colab.research.google.com/github/TiagoSilvaGomes/Curso-Senac-Python---002/blob/main/AULA_02.ipynb\" target=\"_parent\"><img src=\"https://colab.research.google.com/assets/colab-badge.svg\" alt=\"Open In Colab\"/></a>"
      ]
    },
    {
      "cell_type": "code",
      "execution_count": null,
      "metadata": {
        "colab": {
          "base_uri": "https://localhost:8080/"
        },
        "id": "6bVKdG8rCmo6",
        "outputId": "6ff371cf-e687-49f3-fb6b-b34b7cddf061"
      },
      "outputs": [
        {
          "name": "stdout",
          "output_type": "stream",
          "text": [
            "Digite um numero inteiro: 100\n",
            "Digite outro numero inteiro :100\n"
          ]
        }
      ],
      "source": [
        "valor1 = input('Digite um numero inteiro: ')\n",
        "valor2 = input('Digite outro numero inteiro :' )"
      ]
    },
    {
      "cell_type": "code",
      "source": [
        "print(valor1 == valor2)\n",
        "print(valor1 > valor2)\n",
        "print(valor1 < valor2)\n",
        "print(valor1 >= valor2)\n",
        "print(valor1 <= valor2)"
      ],
      "metadata": {
        "colab": {
          "base_uri": "https://localhost:8080/"
        },
        "id": "Xrg1bjOHGfOG",
        "outputId": "d83749c2-da64-4373-db03-c6e267837777"
      },
      "execution_count": null,
      "outputs": [
        {
          "output_type": "stream",
          "name": "stdout",
          "text": [
            "True\n",
            "False\n",
            "False\n",
            "True\n",
            "True\n"
          ]
        }
      ]
    },
    {
      "cell_type": "code",
      "source": [
        "numero = 10\n",
        "print(numero>0 and numero <10)"
      ],
      "metadata": {
        "colab": {
          "base_uri": "https://localhost:8080/"
        },
        "id": "RzQI1feVJ9ht",
        "outputId": "5fbf7e88-9bb1-4d07-839f-b87f9c723ecc"
      },
      "execution_count": null,
      "outputs": [
        {
          "output_type": "stream",
          "name": "stdout",
          "text": [
            "False\n"
          ]
        }
      ]
    },
    {
      "cell_type": "code",
      "source": [
        "numero = 10\n",
        "print(numero>0 or numero <10)"
      ],
      "metadata": {
        "colab": {
          "base_uri": "https://localhost:8080/"
        },
        "id": "sAsln3jBKNr0",
        "outputId": "9752c467-4d1f-4d13-b911-f574006f62f6"
      },
      "execution_count": null,
      "outputs": [
        {
          "output_type": "stream",
          "name": "stdout",
          "text": [
            "True\n"
          ]
        }
      ]
    },
    {
      "cell_type": "code",
      "source": [
        "if ( ):\n",
        "  print()\n",
        "else:\n",
        "  print()  "
      ],
      "metadata": {
        "colab": {
          "base_uri": "https://localhost:8080/"
        },
        "id": "mvrvBT_9K8Gu",
        "outputId": "78803b8d-2597-4733-ad74-03176457875c"
      },
      "execution_count": null,
      "outputs": [
        {
          "output_type": "stream",
          "name": "stdout",
          "text": [
            "\n"
          ]
        }
      ]
    },
    {
      "cell_type": "code",
      "source": [
        "numero1 = int(input('Digite um numero inteiro : '))\n",
        "\n",
        "if numero1 % 2 == 0: #se numero1 é multiplo de 2\n",
        "    print(numero1, 'é par')\n",
        "else: # se numero1 não é multiplo de 2 \n",
        "    print(numero1, 'é impar')\n",
        "\n",
        "print('FIM .')       \n"
      ],
      "metadata": {
        "colab": {
          "base_uri": "https://localhost:8080/"
        },
        "id": "22ajC1HNMhpl",
        "outputId": "59d8e9a6-3378-4556-e867-c56f6aa1967e"
      },
      "execution_count": null,
      "outputs": [
        {
          "output_type": "stream",
          "name": "stdout",
          "text": [
            "Digite um numero inteiro : 100\n",
            "100 é par\n",
            "FIM .\n"
          ]
        }
      ]
    },
    {
      "cell_type": "code",
      "source": [
        "numero2 = int(input('Digite um numero: '))\n",
        "\n",
        "if numero2 % 2 == 0: # se numero2 é multiplo de 2\n",
        "  print(numero2, 'é par ')\n",
        "if numero2 % 2 != 0: # se numero2 não é multiplo de 2\n",
        "  print(numero2, 'é impar')\n",
        "\n",
        "  print('FIM.')\n"
      ],
      "metadata": {
        "colab": {
          "base_uri": "https://localhost:8080/"
        },
        "id": "pXM9J-WGPeR9",
        "outputId": "43458f84-2643-4fe0-961b-618eee097c03"
      },
      "execution_count": null,
      "outputs": [
        {
          "output_type": "stream",
          "name": "stdout",
          "text": [
            "Digite um numero: 100\n",
            "100 é par \n"
          ]
        }
      ]
    },
    {
      "cell_type": "code",
      "source": [
        "cupom = input('digite o cupom: ')"
      ],
      "metadata": {
        "colab": {
          "base_uri": "https://localhost:8080/"
        },
        "id": "sGIndEgPRFN-",
        "outputId": "9266bb9e-2cf5-4875-8fdb-f70f0b3e57de"
      },
      "execution_count": null,
      "outputs": [
        {
          "name": "stdout",
          "output_type": "stream",
          "text": [
            "digite o cupom: 100\n"
          ]
        }
      ]
    },
    {
      "cell_type": "code",
      "source": [
        "if (cupom == 'aula1' or cupom == 'aula2' ):\n",
        "    print('Você ganhou 10% de desconto')"
      ],
      "metadata": {
        "id": "izWBYdaaRQdN"
      },
      "execution_count": null,
      "outputs": []
    },
    {
      "cell_type": "code",
      "source": [
        "cupom = input('Digite o cupom :')\n",
        "\n",
        "if(cupom == 'aula1' or cupom == 'aula2'):\n",
        "  print('Você ganhou 10% de desconto .')\n",
        "else:\n",
        "  print('Cupom inválido')\n",
        "\n"
      ],
      "metadata": {
        "colab": {
          "base_uri": "https://localhost:8080/"
        },
        "id": "gjczAhEgSjld",
        "outputId": "b41bfeaf-76cc-477c-cab4-0f217ca1bd4d"
      },
      "execution_count": null,
      "outputs": [
        {
          "output_type": "stream",
          "name": "stdout",
          "text": [
            "Digite o cupom :100\n",
            "Cupom inválido\n"
          ]
        }
      ]
    },
    {
      "cell_type": "code",
      "source": [
        "cupom = input('Digite o seu cupom de desconto:')\n",
        "\n",
        "if(cupom == 'aula1'):\n",
        "       print('Você ganhou 15% de desconto')\n",
        "elif(cupom == 'aula2'):\n",
        "       print('Você ganhou 10 % de desconto')\n",
        "else:\n",
        "        print('Você ganhpou apenas 5% de desconto')\n",
        "\n"
      ],
      "metadata": {
        "colab": {
          "base_uri": "https://localhost:8080/"
        },
        "id": "WnxdA3nMVkpn",
        "outputId": "53327a51-dd39-4503-d813-503f9a18491e"
      },
      "execution_count": null,
      "outputs": [
        {
          "output_type": "stream",
          "name": "stdout",
          "text": [
            "Digite o seu cupom de desconto:100\n",
            "Você ganhpou apenas 5% de desconto\n"
          ]
        }
      ]
    },
    {
      "cell_type": "code",
      "source": [
        "if (1 ==1):\n",
        "  print('Mensagem de segundo nivel')\n",
        "elif(1==2) == False):\n",
        "  print('Mensagem do terceiro nivel ')"
      ],
      "metadata": {
        "id": "YRalO7cWY4Q2",
        "colab": {
          "base_uri": "https://localhost:8080/",
          "height": 130
        },
        "outputId": "4392fbda-9bb0-4f90-a07e-1fee2614bead"
      },
      "execution_count": null,
      "outputs": [
        {
          "output_type": "error",
          "ename": "SyntaxError",
          "evalue": "ignored",
          "traceback": [
            "\u001b[0;36m  File \u001b[0;32m\"<ipython-input-12-b13dfef31426>\"\u001b[0;36m, line \u001b[0;32m3\u001b[0m\n\u001b[0;31m    if(1==2) == False):\u001b[0m\n\u001b[0m                     ^\u001b[0m\n\u001b[0;31mSyntaxError\u001b[0m\u001b[0;31m:\u001b[0m invalid syntax\n"
          ]
        }
      ]
    },
    {
      "cell_type": "code",
      "source": [
        "resposta1 = input('Está fazendo sol ')\n",
        "resposta2 = input('Está com dinheiro ')\n",
        "\n",
        "if(resposta1 == 'sim' and resposta2 == 'sim' ):\n",
        "      print('Pode ir a praia!')\n",
        "else:\n",
        "      print('Fique em casa e assista Netflix')  \n"
      ],
      "metadata": {
        "colab": {
          "base_uri": "https://localhost:8080/"
        },
        "id": "pCyKke0Eao-N",
        "outputId": "5c7f782d-3e12-4bfb-c068-730f67cf4297"
      },
      "execution_count": null,
      "outputs": [
        {
          "output_type": "stream",
          "name": "stdout",
          "text": [
            "Está fazendo sol sim\n",
            "Está com dinheiro sim\n",
            "Pode ir a praia!\n"
          ]
        }
      ]
    },
    {
      "cell_type": "code",
      "source": [
        "resposta1 = input('Está fazendo sol?')\n",
        "resposta2 = input('Está com dinheiro?')\n",
        "\n",
        "if(resposta1 == 'sim'  or  resposta2 == 'sim'):\n",
        "  print('Pode ir a praia!')\n",
        "  if(resposta1 == 'nao' and resposta2 == 'nao'):\n",
        "    print('Assita netflix')\n",
        "else:\n",
        "  print('Assita netflix!')\n"
      ],
      "metadata": {
        "colab": {
          "base_uri": "https://localhost:8080/"
        },
        "id": "gWBaZgtieLBN",
        "outputId": "1735c33b-6aae-4644-90b0-ac5230c22ca3"
      },
      "execution_count": null,
      "outputs": [
        {
          "output_type": "stream",
          "name": "stdout",
          "text": [
            "Está fazendo sol?sim\n",
            "Está com dinheiro?sim\n",
            "Pode ir a praia!\n"
          ]
        }
      ]
    },
    {
      "cell_type": "code",
      "source": [
        "tempo = input('Está fazendo ')\n",
        "\n",
        "if(tempo == 'sim'):\n",
        "  dinheiro = input('Você tem dinheiro ')\n",
        "  if(dinheiro == 'sim'):\n",
        "    print('Vamos a praia')\n",
        "  else:\n",
        "    print('Va ligar o ventilador ')\n",
        "else:\n",
        "  print('Vamos assistir NEtflix! ')\n",
        "\n"
      ],
      "metadata": {
        "colab": {
          "base_uri": "https://localhost:8080/"
        },
        "id": "JYPednnPgrEV",
        "outputId": "7679fbb7-42cb-49d8-f628-93c50253f61c"
      },
      "execution_count": null,
      "outputs": [
        {
          "output_type": "stream",
          "name": "stdout",
          "text": [
            "Está fazendo sim\n",
            "Você tem dinheiro sim\n",
            "Vamos a praia\n"
          ]
        }
      ]
    },
    {
      "cell_type": "markdown",
      "source": [
        "Paresentese\n",
        "Expoente\n",
        "Multiplacação\n",
        "Divisão\n",
        "Adição\n",
        "Subtração"
      ],
      "metadata": {
        "id": "JEc2FEM8lCsY"
      }
    },
    {
      "cell_type": "code",
      "source": [
        "ano = int(input('Favor informar o ano do seu carro :'))\n",
        "preco = int(input('Informe o valor do carro : '))\n",
        "\n",
        "if(ano <= 1990 ):\n",
        "  print('A taxa a ser paga é de ','R$', preco*0.01 + preco )\n",
        "else:\n",
        "  print('Ataxa a ser paga é de ','R$', preco*0.015 + preco )\n",
        "\n",
        "\n"
      ],
      "metadata": {
        "colab": {
          "base_uri": "https://localhost:8080/"
        },
        "id": "R44vbCliiv48",
        "outputId": "82c35326-56c0-4677-dbc3-7d9c7f8d25e3"
      },
      "execution_count": null,
      "outputs": [
        {
          "output_type": "stream",
          "name": "stdout",
          "text": [
            "Favor informar o ano do seu carro :100\n",
            "Informe o valor do carro : 100\n",
            "A taxa a ser paga é de  R$ 101.0\n"
          ]
        }
      ]
    },
    {
      "cell_type": "code",
      "source": [
        "cargo = str(input('Favor informar seu cargo de ocupação .'))\n",
        "salario = int(input('Favor informar seu salário .'))\n",
        "\n",
        "if( cargo == 'gerente' ):\n",
        "  \n",
        "  print('\\n Salário antigo :', salario , ' \\n Novo salário :', salario*0.10 + salario, '\\n Você teve um aumento de : R$', salario*0.10)\n",
        "\n",
        "elif( cargo == 'engenheiro'):\n",
        "\n",
        "  print('\\n Salário antigo :', salario , ' \\n Novo salário :R$', salario*0.20 + salario, '\\n Você teve um aumento de : R$', salario*0.20)\n",
        "\n",
        "elif(cargo == 'tecnico'):\n",
        "\n",
        "    print('\\n Salário antigo :', salario , ' \\n Novo salário :R$', salario*0.30 + salario, '\\n Você teve um aumento de : R$', salario*0.30)\n",
        "else:\n",
        "    print('Seu cargo não faz parte da tabela')\n",
        "    print('\\n Salário antigo :', salario , ' \\n Novo salário :', salario*0.40 + salario, '\\n Você teve um aumento de : R$', salario*0.40)\n"
      ],
      "metadata": {
        "colab": {
          "base_uri": "https://localhost:8080/"
        },
        "id": "nCF2O3ORo3op",
        "outputId": "76487968-e0ac-485f-8012-eabd4805a2dc"
      },
      "execution_count": null,
      "outputs": [
        {
          "output_type": "stream",
          "name": "stdout",
          "text": [
            "Favor informar seu cargo de ocupação .pintor\n",
            "Favor informar seu salário .1000\n",
            "Seu cargo não faz parte da tabela\n",
            "\n",
            " Salário antigo : 1000  \n",
            " Novo salário : 1400.0 \n",
            " Você teve um aumento de : R$ 400.0\n"
          ]
        }
      ]
    },
    {
      "cell_type": "code",
      "source": [
        "saldo = int(input('Favor informar seu saldo :'))\n",
        "\n",
        "if(saldo >= 0  and saldo <= 200):\n",
        "  print('Você não tem credito liberado!')\n",
        "\n",
        "elif(saldo >= 201 and saldo <= 400):\n",
        "  print('Você tem um saldo medio de :',saldo, '\\n Valor do credito de: ' , saldo*0.20)\n",
        "\n",
        "elif(saldo >= 401 and saldo <= 600):\n",
        "  print('Você tem um saldo medio de : ',saldo, '\\n Valor do credito de :' , saldo*0.30)\n",
        "  \n",
        "elif(saldo >= 601):\n",
        "  print('Você tem um saldo medio de :' ,saldo, '\\n Valor do credito de ' , saldo*0.40)\n",
        "\n"
      ],
      "metadata": {
        "colab": {
          "base_uri": "https://localhost:8080/"
        },
        "id": "HGz-fORKAQYr",
        "outputId": "993cba62-b7d9-47f1-a680-fcd9dbadff69"
      },
      "execution_count": null,
      "outputs": [
        {
          "output_type": "stream",
          "name": "stdout",
          "text": [
            "Favor informar seu saldo :500\n",
            "Você tem um saldo medio de :  500 \n",
            " Valor do credito de : 150.0\n"
          ]
        }
      ]
    },
    {
      "cell_type": "code",
      "source": [
        "print('Favor informar 5 numeros inteiros em sequencia ')\n",
        "numero1 = int(input('Favor informar o 1º numero :'))\n",
        "numero2 = int(input('Favor informar o 2º numero :'))\n",
        "numero3 = int(input('Favor informar o 3º numero :'))\n",
        "numero4 = int(input('Favor informar o 4º numero :'))\n",
        "numero5 = int(input('Favor informar o 5º numero :'))\n",
        "\n",
        "maior = numero1\n",
        "\n",
        "if(numero2 > maior):  \n",
        "  maior = numero2\n",
        "if(numero3 > maior):\n",
        "  maior = numero3  \n",
        "if(numero4 > maior):\n",
        "  maior = numero4\n",
        "if(numero5 > maior):\n",
        "  maior = numero5    \n",
        "print('Maior numero ', maior)\n",
        "\n",
        "menor = numero1\n",
        "\n",
        "if(numero2 < menor):\n",
        "  menor = numero2\n",
        "if(numero3 < menor):\n",
        "  menor = numero3\n",
        "if(numero4 < menor):\n",
        "  menor = numero4\n",
        "if(numero5 < menor):\n",
        "  menor = numero5       \n",
        "print('Menor numero ', menor)\n",
        "\n"
      ],
      "metadata": {
        "colab": {
          "base_uri": "https://localhost:8080/"
        },
        "id": "xs2Lmv-53vc-",
        "outputId": "60aa3728-64d9-4bcf-b369-c29619969dc3"
      },
      "execution_count": null,
      "outputs": [
        {
          "output_type": "stream",
          "name": "stdout",
          "text": [
            "Favor informar 5 numeros inteiros em sequencia \n",
            "Favor informar o 1º numero :10\n",
            "Favor informar o 2º numero :8\n",
            "Favor informar o 3º numero :6\n",
            "Favor informar o 4º numero :2\n",
            "Favor informar o 5º numero :1\n",
            "Maior numero  10\n",
            "Menor numero  1\n"
          ]
        }
      ]
    }
  ]
}